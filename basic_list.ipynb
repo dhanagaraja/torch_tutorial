{
  "nbformat": 4,
  "nbformat_minor": 0,
  "metadata": {
    "colab": {
      "provenance": [],
      "authorship_tag": "ABX9TyNUluVObbJN7Ci5HlIkGk7X",
      "include_colab_link": true
    },
    "kernelspec": {
      "name": "python3",
      "display_name": "Python 3"
    },
    "language_info": {
      "name": "python"
    }
  },
  "cells": [
    {
      "cell_type": "markdown",
      "metadata": {
        "id": "view-in-github",
        "colab_type": "text"
      },
      "source": [
        "<a href=\"https://colab.research.google.com/github/dhanagaraja/torch_tutorial/blob/main/basic_list.ipynb\" target=\"_parent\"><img src=\"https://colab.research.google.com/assets/colab-badge.svg\" alt=\"Open In Colab\"/></a>"
      ]
    },
    {
      "cell_type": "code",
      "execution_count": 1,
      "metadata": {
        "id": "N3Y0rnLH72mZ"
      },
      "outputs": [],
      "source": [
        "import numpy as np\n",
        "import torch"
      ]
    },
    {
      "cell_type": "code",
      "source": [
        "my_nested_list = [[1,2,3,4,5], [6,7,8,9,10]]\n",
        "my_nested_list"
      ],
      "metadata": {
        "colab": {
          "base_uri": "https://localhost:8080/"
        },
        "id": "DF--WiPI8IIU",
        "outputId": "d68c1711-0273-4592-b0e7-86a33e124afb"
      },
      "execution_count": 2,
      "outputs": [
        {
          "output_type": "execute_result",
          "data": {
            "text/plain": [
              "[[1, 2, 3, 4, 5], [6, 7, 8, 9, 10]]"
            ]
          },
          "metadata": {},
          "execution_count": 2
        }
      ]
    },
    {
      "cell_type": "code",
      "source": [
        "np_array = np.array(my_nested_list)\n",
        "np_array"
      ],
      "metadata": {
        "colab": {
          "base_uri": "https://localhost:8080/"
        },
        "id": "koZh-bFf8IWa",
        "outputId": "a8d23f71-d9a7-42d5-9d71-48e929d68c02"
      },
      "execution_count": 3,
      "outputs": [
        {
          "output_type": "execute_result",
          "data": {
            "text/plain": [
              "array([[ 1,  2,  3,  4,  5],\n",
              "       [ 6,  7,  8,  9, 10]])"
            ]
          },
          "metadata": {},
          "execution_count": 3
        }
      ]
    },
    {
      "cell_type": "code",
      "source": [
        "np_random_array = np.random.rand(3,4)\n",
        "print(np_random_array)\n",
        "np_random_array.dtype"
      ],
      "metadata": {
        "colab": {
          "base_uri": "https://localhost:8080/"
        },
        "id": "3SzAHswX8Iei",
        "outputId": "e2c1911c-20b9-4e9d-af4e-37bdee205fdc"
      },
      "execution_count": 11,
      "outputs": [
        {
          "output_type": "stream",
          "name": "stdout",
          "text": [
            "[[0.99880241 0.00846547 0.29642021 0.05047982]\n",
            " [0.43731691 0.81887417 0.66509561 0.36668676]\n",
            " [0.78295654 0.62662471 0.95271753 0.12758712]]\n"
          ]
        },
        {
          "output_type": "execute_result",
          "data": {
            "text/plain": [
              "dtype('float64')"
            ]
          },
          "metadata": {},
          "execution_count": 11
        }
      ]
    },
    {
      "cell_type": "code",
      "source": [
        "torch_random_array = torch.rand(3,4)\n",
        "print(torch_random_array)\n",
        "torch_random_array.dtype"
      ],
      "metadata": {
        "colab": {
          "base_uri": "https://localhost:8080/"
        },
        "id": "ovr3-orU8ImF",
        "outputId": "a13ec291-132e-49e9-95c5-fd5cac11f5fb"
      },
      "execution_count": 12,
      "outputs": [
        {
          "output_type": "stream",
          "name": "stdout",
          "text": [
            "tensor([[0.1007, 0.2660, 0.1100, 0.4705],\n",
            "        [0.5887, 0.1599, 0.2650, 0.4614],\n",
            "        [0.8839, 0.3505, 0.8124, 0.9384]])\n"
          ]
        },
        {
          "output_type": "execute_result",
          "data": {
            "text/plain": [
              "torch.float32"
            ]
          },
          "metadata": {},
          "execution_count": 12
        }
      ]
    },
    {
      "cell_type": "markdown",
      "source": [
        "**These are the examples of 2d arrays in numpy and torch**"
      ],
      "metadata": {
        "id": "CZWzumwS9i1Y"
      }
    },
    {
      "cell_type": "code",
      "source": [
        "torch_np_array = torch.from_numpy(np_array)\n",
        "print(torch_np_array)\n",
        "print(torch_np_array.dtype)\n",
        "torch_np_random_array = torch.tensor(np_random_array)\n",
        "print(torch_np_random_array)"
      ],
      "metadata": {
        "colab": {
          "base_uri": "https://localhost:8080/"
        },
        "id": "qeYBi6I484JU",
        "outputId": "f2793e4a-4da4-4084-bfc7-e39c15ef674b"
      },
      "execution_count": 16,
      "outputs": [
        {
          "output_type": "stream",
          "name": "stdout",
          "text": [
            "tensor([[ 1,  2,  3,  4,  5],\n",
            "        [ 6,  7,  8,  9, 10]])\n",
            "torch.int64\n",
            "tensor([[0.9988, 0.0085, 0.2964, 0.0505],\n",
            "        [0.4373, 0.8189, 0.6651, 0.3667],\n",
            "        [0.7830, 0.6266, 0.9527, 0.1276]], dtype=torch.float64)\n"
          ]
        }
      ]
    },
    {
      "cell_type": "markdown",
      "source": [
        "**These are the examples of 3d arrays in numpy and torch**"
      ],
      "metadata": {
        "id": "yIrgW3HJ98Wm"
      }
    },
    {
      "cell_type": "code",
      "source": [
        "torch_3d = torch.zeros(2,3,4)\n",
        "torch_3d"
      ],
      "metadata": {
        "colab": {
          "base_uri": "https://localhost:8080/"
        },
        "id": "sOdEg0gn9zQQ",
        "outputId": "569b03ba-8854-4676-b095-9a8b8d872be9"
      },
      "execution_count": 17,
      "outputs": [
        {
          "output_type": "execute_result",
          "data": {
            "text/plain": [
              "tensor([[[0., 0., 0., 0.],\n",
              "         [0., 0., 0., 0.],\n",
              "         [0., 0., 0., 0.]],\n",
              "\n",
              "        [[0., 0., 0., 0.],\n",
              "         [0., 0., 0., 0.],\n",
              "         [0., 0., 0., 0.]]])"
            ]
          },
          "metadata": {},
          "execution_count": 17
        }
      ]
    },
    {
      "cell_type": "code",
      "source": [
        "torch_3d = torch.rand(2,3,4)\n",
        "torch_3d"
      ],
      "metadata": {
        "colab": {
          "base_uri": "https://localhost:8080/"
        },
        "id": "aBPsREbc-ARt",
        "outputId": "52d66e3c-0fe2-4535-ce2d-36949880df61"
      },
      "execution_count": 18,
      "outputs": [
        {
          "output_type": "execute_result",
          "data": {
            "text/plain": [
              "tensor([[[0.9497, 0.5741, 0.2756, 0.5738],\n",
              "         [0.6501, 0.1843, 0.1218, 0.9409],\n",
              "         [0.5734, 0.3634, 0.1841, 0.6200]],\n",
              "\n",
              "        [[0.6922, 0.5644, 0.2872, 0.9997],\n",
              "         [0.6354, 0.6258, 0.1289, 0.9684],\n",
              "         [0.6166, 0.4245, 0.1210, 0.6058]]])"
            ]
          },
          "metadata": {},
          "execution_count": 18
        }
      ]
    }
  ]
}